{
 "cells": [
  {
   "cell_type": "code",
   "execution_count": null,
   "outputs": [],
   "source": [
    "import pathlib\n",
    "\n",
    "from haystack.document_stores import InMemoryDocumentStore\n",
    "from haystack.nodes import Crawler, PreProcessor, BM25Retriever, FARMReader\n",
    "from haystack.pipelines import Pipeline\n"
   ],
   "metadata": {
    "collapsed": false
   }
  },
  {
   "cell_type": "code",
   "execution_count": null,
   "outputs": [],
   "source": [
    "DATA_DIR = pathlib.Path().absolute().parent / \"data\"\n",
    "CRAWLED_FILES_DIR = DATA_DIR / \"crawled_files\""
   ],
   "metadata": {
    "collapsed": false
   }
  },
  {
   "cell_type": "markdown",
   "source": [
    "# Prerequisites\n",
    "- The Chrome browser must be installed manually\n",
    "\n",
    "This is because the Haystack crawler uses Selenium but only with the ChromeDriver.\n",
    "\n",
    "Now, we can install ChromeDriver like this:"
   ],
   "metadata": {
    "collapsed": false
   }
  },
  {
   "cell_type": "code",
   "execution_count": null,
   "outputs": [],
   "source": [
    "from webdriver_manager.chrome import ChromeDriverManager\n",
    "ChromeDriverManager().install()"
   ],
   "metadata": {
    "collapsed": false
   }
  },
  {
   "cell_type": "markdown",
   "source": [
    "# Step 1: Get the data, clean it, and store it"
   ],
   "metadata": {
    "collapsed": false
   }
  },
  {
   "cell_type": "code",
   "execution_count": null,
   "outputs": [],
   "source": [
    "crawler = Crawler(\n",
    "    urls=[\"https://haystack.deepset.ai\"],   # Websites to crawl\n",
    "    crawler_depth=1,    # How many links to follow\n",
    "    output_dir=CRAWLED_FILES_DIR,  # The directory to store the crawled files, not very important, we don't use the files in this example\n",
    ")"
   ],
   "metadata": {
    "collapsed": false
   }
  },
  {
   "cell_type": "code",
   "execution_count": null,
   "outputs": [],
   "source": [
    "document_store = InMemoryDocumentStore(use_bm25=True)"
   ],
   "metadata": {
    "collapsed": false
   }
  },
  {
   "cell_type": "code",
   "execution_count": null,
   "outputs": [],
   "source": [
    "preprocessor = PreProcessor(\n",
    "    clean_empty_lines=True,\n",
    "    clean_whitespace=True,\n",
    "    clean_header_footer=False,\n",
    "    split_by=\"word\",\n",
    "    split_length=500,\n",
    "    split_respect_sentence_boundary=True,\n",
    ")\n",
    "indexing_pipeline = Pipeline()\n",
    "indexing_pipeline.add_node(component=crawler, name=\"crawler\", inputs=['File'])\n",
    "indexing_pipeline.add_node(component=preprocessor, name=\"preprocessor\", inputs=['crawler'])\n",
    "indexing_pipeline.add_node(component=document_store, name=\"document_store\", inputs=['preprocessor'])\n",
    "\n",
    "indexing_pipeline.run()"
   ],
   "metadata": {
    "collapsed": false
   }
  },
  {
   "cell_type": "markdown",
   "source": [
    "# Step 2: Use the data to answer questions\n",
    "\n",
    "Let's create the indexing pipeline. It will contain:\n",
    "  1. A Crawler node that fetches text from a website.\n",
    "  2. A PreProcessor that makes the documents friendly to the Retriever.\n",
    "  3. The DocumentStore that receives the documents and stores them."
   ],
   "metadata": {
    "collapsed": false
   }
  },
  {
   "cell_type": "code",
   "execution_count": null,
   "outputs": [],
   "source": [
    "retriever = BM25Retriever(document_store=document_store)\n",
    "reader =  FARMReader(model_name_or_path=\"deepset/roberta-base-squad2-distilled\")\n",
    "\n",
    "query_pipeline = Pipeline()\n",
    "query_pipeline.add_node(component=retriever, name=\"retriever\", inputs=[\"Query\"])\n",
    "query_pipeline.add_node(component=reader, name=\"reader\", inputs=[\"retriever\"])\n",
    "\n"
   ],
   "metadata": {
    "collapsed": false
   }
  },
  {
   "cell_type": "code",
   "execution_count": null,
   "outputs": [],
   "source": [
    "results = query_pipeline.run(query=\"What can I use Haystack for?\")\n",
    "\n",
    "print(\"\\nQuestion: \", results[\"query\"])\n",
    "print(\"\\nAnswers:\")\n",
    "for answer in results[\"answers\"]:\n",
    "    print(\"- \", answer.answer)\n",
    "print(\"\\n\\n\")"
   ],
   "metadata": {
    "collapsed": false
   }
  },
  {
   "cell_type": "code",
   "execution_count": null,
   "outputs": [],
   "source": [],
   "metadata": {
    "collapsed": false
   }
  }
 ],
 "metadata": {
  "kernelspec": {
   "display_name": "Python 3",
   "language": "python",
   "name": "python3"
  },
  "language_info": {
   "codemirror_mode": {
    "name": "ipython",
    "version": 2
   },
   "file_extension": ".py",
   "mimetype": "text/x-python",
   "name": "python",
   "nbconvert_exporter": "python",
   "pygments_lexer": "ipython2",
   "version": "2.7.6"
  }
 },
 "nbformat": 4,
 "nbformat_minor": 0
}
