{
 "cells": [
  {
   "cell_type": "markdown",
   "source": [
    "# Summarization\n",
    "We try to summarize a document and also for a single embedding, to compute a representative sentence."
   ],
   "metadata": {
    "collapsed": false
   }
  },
  {
   "cell_type": "code",
   "execution_count": null,
   "outputs": [],
   "source": [
    "import logging\n",
    "import pathlib\n",
    "import re\n",
    "from typing import List\n",
    "\n",
    "import pandas as pd\n",
    "import requests\n",
    "from haystack import Document\n",
    "from haystack.document_stores import InMemoryDocumentStore\n",
    "from haystack.nodes import BM25Retriever, EmbeddingRetriever\n",
    "from haystack.nodes import TransformersSummarizer"
   ],
   "metadata": {
    "collapsed": false
   }
  },
  {
   "cell_type": "code",
   "execution_count": null,
   "outputs": [],
   "source": [
    "logging.basicConfig(format=\"%(levelname)s - %(name)s -  %(message)s\", level=logging.WARNING)\n",
    "logging.getLogger(\"haystack\").setLevel(logging.INFO)"
   ],
   "metadata": {
    "collapsed": false
   }
  },
  {
   "cell_type": "code",
   "execution_count": null,
   "outputs": [],
   "source": [
    "DATA_DIR = pathlib.Path().absolute().parent / \"data\"\n",
    "BOOKS_DIR = DATA_DIR / \"books\""
   ],
   "metadata": {
    "collapsed": false
   }
  },
  {
   "cell_type": "markdown",
   "source": [
    "# Download some books from Project Gutenberg"
   ],
   "metadata": {
    "collapsed": false
   }
  },
  {
   "cell_type": "code",
   "execution_count": null,
   "outputs": [],
   "source": [
    "book_urls = [(\"anna_karenina.txt\", \"https://www.gutenberg.org/cache/epub/1399/pg1399.txt\"),\n",
    "             (\"lykke_per.txt\", \"https://www.gutenberg.org/files/51384/51384-0.txt\")]\n",
    "if not BOOKS_DIR.exists():\n",
    "    BOOKS_DIR.mkdir(parents=True)\n",
    "for (file_name, url) in book_urls:\n",
    "    file_path = BOOKS_DIR / file_name\n",
    "    if not file_path.exists():\n",
    "        print(f\"Downloading {file_name} from {url}...\")\n",
    "        with open(file_path, \"w\", encoding='utf-8') as f:\n",
    "            response = requests.get(url)\n",
    "            response.encoding = 'utf-8'\n",
    "            match = re.split(r\"\\*\\*\\* START OF (THIS|THE) PROJECT GUTENBERG EBOOK .* \\*\\*\\*\", response.text, maxsplit=1,\n",
    "                             flags=re.MULTILINE)\n",
    "            assert (match is not None)\n",
    "            book = match[-1]\n",
    "            f.write(book)"
   ],
   "metadata": {
    "collapsed": false
   }
  },
  {
   "cell_type": "code",
   "execution_count": null,
   "outputs": [],
   "source": [
    "book_text = (BOOKS_DIR / \"anna_karenina.txt\").read_text(encoding='utf-8')\n",
    "docs = [Document(content=book_text[:5000], meta={\n",
    "    \"name\": \"Anna Karenina\"})]  # shorten the book for faster processing, the tokenizer cannot handle large texts anyway"
   ],
   "metadata": {
    "collapsed": false
   }
  },
  {
   "cell_type": "code",
   "execution_count": null,
   "outputs": [],
   "source": [
    "bm25_ds = InMemoryDocumentStore(use_bm25=True)\n",
    "bm25_ds.write_documents(docs)\n",
    "bm25_retriever = BM25Retriever(document_store=bm25_ds, top_k=2)"
   ],
   "metadata": {
    "collapsed": false
   }
  },
  {
   "cell_type": "markdown",
   "source": [
    "# Try some different summarization models\n",
    "\"xsum\" and \"samsum\" are widely used summarization datasets used for training as indicated by the model names."
   ],
   "metadata": {
    "collapsed": false
   }
  },
  {
   "cell_type": "code",
   "execution_count": null,
   "outputs": [],
   "source": [
    "summarizer = TransformersSummarizer(model_name_or_path=\"google/pegasus-xsum\", use_gpu=True)\n",
    "summary = summarizer.predict(documents=docs)\n",
    "summary[0].meta[\"summary\"]"
   ],
   "metadata": {
    "collapsed": false
   }
  },
  {
   "cell_type": "markdown",
   "source": [
    "Summary: `In our series of letters from African journalists, novelist and writer Anna Karenina reflects on life in her native Russia in the 19th Century.`"
   ],
   "metadata": {
    "collapsed": false
   }
  },
  {
   "cell_type": "code",
   "execution_count": null,
   "outputs": [],
   "source": [
    "summarizer = TransformersSummarizer(model_name_or_path=\"facebook/bart-large-cnn\", use_gpu=True)\n",
    "summary = summarizer.predict(documents=docs)\n",
    "summary[0].meta[\"summary\"]"
   ],
   "metadata": {
    "collapsed": false
   }
  },
  {
   "cell_type": "markdown",
   "source": [
    "Summary: `Every unhappy family is unhappy in its own way, says Tolstoy.`"
   ],
   "metadata": {
    "collapsed": false
   }
  },
  {
   "cell_type": "code",
   "execution_count": null,
   "outputs": [],
   "source": [
    "summarizer = TransformersSummarizer(model_name_or_path=\"facebook/bart-large-xsum\", use_gpu=True)\n",
    "summary = summarizer.predict(documents=docs)\n",
    "summary[0].meta[\"summary\"]"
   ],
   "metadata": {
    "collapsed": false
   }
  },
  {
   "cell_type": "markdown",
   "source": [
    "Summary: `A selection of extracts from Leo Tolstoy's novel Anna Karenina.`"
   ],
   "metadata": {
    "collapsed": false
   }
  },
  {
   "cell_type": "code",
   "execution_count": null,
   "outputs": [],
   "source": [
    "summarizer = TransformersSummarizer(model_name_or_path=\"philschmid/bart-large-cnn-samsum\", use_gpu=True)\n",
    "summary = summarizer.predict(documents=docs)\n",
    "summary[0].meta[\"summary\"]"
   ],
   "metadata": {
    "collapsed": false
   }
  },
  {
   "cell_type": "markdown",
   "source": [
    "Summary: `The Oblonskys’ house was in chaos because the husband was having an affair with a French girl. The French girl wanted to leave the house.`"
   ],
   "metadata": {
    "collapsed": false
   }
  },
  {
   "cell_type": "code",
   "execution_count": null,
   "outputs": [],
   "source": [
    "summarizer = TransformersSummarizer(model_name_or_path=\"philschmid/flan-t5-base-samsum\", use_gpu=True)\n",
    "summary = summarizer.predict(documents=docs)\n",
    "summary[0].meta[\"summary\"]"
   ],
   "metadata": {
    "collapsed": false
   }
  },
  {
   "cell_type": "markdown",
   "source": [
    "## Let's try the models on non-English text"
   ],
   "metadata": {
    "collapsed": false
   }
  },
  {
   "cell_type": "code",
   "execution_count": null,
   "outputs": [],
   "source": [
    "def summarize(model_name_or_path, docs : List[Document]):\n",
    "    summarizer = TransformersSummarizer(model_name_or_path=model_name_or_path, use_gpu=True)\n",
    "    summary = summarizer.predict(documents=docs)\n",
    "    return summary[0].meta[\"summary\"]"
   ],
   "metadata": {
    "collapsed": false
   }
  },
  {
   "cell_type": "code",
   "execution_count": null,
   "outputs": [],
   "source": [
    "book = (BOOKS_DIR / \"lykke_per.txt\").read_text(encoding='utf-8')\n",
    "docs = [Document(content=book[:800], meta={\"name\": \"Lykke-Per\"})]"
   ],
   "metadata": {
    "collapsed": false
   }
  },
  {
   "cell_type": "code",
   "execution_count": null,
   "outputs": [],
   "source": [
    "summarize(\"google/mt5-small\", docs)"
   ],
   "metadata": {
    "collapsed": false
   }
  },
  {
   "cell_type": "code",
   "execution_count": null,
   "outputs": [],
   "source": [
    "summarize(\"philschmid/flan-t5-base-samsum\", docs)"
   ],
   "metadata": {
    "collapsed": false
   }
  },
  {
   "cell_type": "code",
   "execution_count": null,
   "outputs": [],
   "source": [
    "summarize(\"facebook/bart-large-xsum\", docs)"
   ],
   "metadata": {
    "collapsed": false
   }
  },
  {
   "cell_type": "markdown",
   "source": [
    "All in all these models are quite bad."
   ],
   "metadata": {
    "collapsed": false
   }
  },
  {
   "cell_type": "code",
   "execution_count": null,
   "outputs": [],
   "source": [],
   "metadata": {
    "collapsed": false
   }
  }
 ],
 "metadata": {
  "kernelspec": {
   "display_name": "Python 3",
   "language": "python",
   "name": "python3"
  },
  "language_info": {
   "codemirror_mode": {
    "name": "ipython",
    "version": 2
   },
   "file_extension": ".py",
   "mimetype": "text/x-python",
   "name": "python",
   "nbconvert_exporter": "python",
   "pygments_lexer": "ipython2",
   "version": "2.7.6"
  }
 },
 "nbformat": 4,
 "nbformat_minor": 0
}
