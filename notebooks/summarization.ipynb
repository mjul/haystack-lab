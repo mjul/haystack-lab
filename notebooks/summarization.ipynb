{
 "cells": [
  {
   "cell_type": "markdown",
   "source": [
    "# Summarization\n",
    "We try to summarize a document and also for a single embedding, to compute a representative sentence."
   ],
   "metadata": {
    "collapsed": false
   }
  },
  {
   "cell_type": "code",
   "execution_count": null,
   "outputs": [],
   "source": [
    "import logging\n",
    "import pathlib\n",
    "\n",
    "import requests\n",
    "from haystack import Document\n",
    "from haystack.document_stores import InMemoryDocumentStore\n",
    "from haystack.nodes import EmbeddingRetriever, BM25Retriever, PromptTemplate, PromptNode, PreProcessor\n",
    "from haystack.nodes import TransformersSummarizer"
   ],
   "metadata": {
    "collapsed": false
   }
  },
  {
   "cell_type": "code",
   "execution_count": null,
   "outputs": [],
   "source": [
    "logging.basicConfig(format=\"%(levelname)s - %(name)s -  %(message)s\", level=logging.WARNING)\n",
    "logging.getLogger(\"haystack\").setLevel(logging.INFO)"
   ],
   "metadata": {
    "collapsed": false
   }
  },
  {
   "cell_type": "code",
   "execution_count": null,
   "outputs": [],
   "source": [
    "DATA_DIR = pathlib.Path().absolute().parent / \"data\"\n",
    "BOOKS_DIR = DATA_DIR / \"books\""
   ],
   "metadata": {
    "collapsed": false
   }
  },
  {
   "cell_type": "markdown",
   "source": [
    "# Download some books from Project Gutenberg"
   ],
   "metadata": {
    "collapsed": false
   }
  },
  {
   "cell_type": "code",
   "execution_count": null,
   "outputs": [],
   "source": [
    "book_urls = [(\"anna_karenina.txt\", \"https://www.gutenberg.org/cache/epub/1399/pg1399.txt\")]\n",
    "if not BOOKS_DIR.exists():\n",
    "    BOOKS_DIR.mkdir(parents=True)\n",
    "for (file_name, url) in book_urls:\n",
    "    file_path = BOOKS_DIR / file_name\n",
    "    if not file_path.exists():\n",
    "        print(f\"Downloading {file_name} from {url}...\")\n",
    "        with open(file_path, \"w\", encoding='utf-8') as f:\n",
    "            text = requests.get(url).text\n",
    "            lines = text.split(\"\\n\")\n",
    "            separator_index = -1\n",
    "            for i, line in enumerate(lines):\n",
    "                if line.startswith(\"*** START OF THE PROJECT GUTENBERG EBOOK\"):\n",
    "                    separator_index = i\n",
    "                    break\n",
    "            book = \"\\n\".join(lines[separator_index + 1:])\n",
    "            f.write(book)\n"
   ],
   "metadata": {
    "collapsed": false
   }
  },
  {
   "cell_type": "code",
   "execution_count": null,
   "outputs": [],
   "source": [
    "book_text = (BOOKS_DIR / \"anna_karenina.txt\").read_text(encoding='utf-8')\n",
    "docs = [Document(content=book_text[:1000], meta={\"name\": \"Anna Karenina\"})] # shorten the book for faster processing, the tokenizer cannot handle large texts anyway"
   ],
   "metadata": {
    "collapsed": false
   }
  },
  {
   "cell_type": "code",
   "execution_count": null,
   "outputs": [],
   "source": [
    "bm25_ds = InMemoryDocumentStore(use_bm25=True)\n",
    "bm25_ds.write_documents(docs)\n",
    "bm25_retriever = BM25Retriever(document_store=bm25_ds, top_k=2)"
   ],
   "metadata": {
    "collapsed": false
   }
  },
  {
   "cell_type": "markdown",
   "source": [
    "# Try some different summarization models\n",
    "\"xsum\" and \"samsum\" are widely used summarization datasets used for training as indicated by the model names."
   ],
   "metadata": {
    "collapsed": false
   }
  },
  {
   "cell_type": "code",
   "execution_count": null,
   "outputs": [],
   "source": [
    "summarizer = TransformersSummarizer(model_name_or_path=\"google/pegasus-xsum\", use_gpu=True)\n",
    "summary = summarizer.predict(documents=docs)\n",
    "summary[0].meta[\"summary\"]"
   ],
   "metadata": {
    "collapsed": false
   }
  },
  {
   "cell_type": "markdown",
   "source": [
    "Summary: `In our series of letters from African journalists, novelist and writer Anna Karenina reflects on life in her native Russia in the 19th Century.`"
   ],
   "metadata": {
    "collapsed": false
   }
  },
  {
   "cell_type": "code",
   "execution_count": null,
   "outputs": [],
   "source": [
    "summarizer = TransformersSummarizer(model_name_or_path=\"facebook/bart-large-cnn\", use_gpu=True)\n",
    "summary = summarizer.predict(documents=docs)\n",
    "summary[0].meta[\"summary\"]"
   ],
   "metadata": {
    "collapsed": false
   }
  },
  {
   "cell_type": "markdown",
   "source": [
    "Summary: `Every unhappy family is unhappy in its own way, says Tolstoy.`"
   ],
   "metadata": {
    "collapsed": false
   }
  },
  {
   "cell_type": "code",
   "execution_count": null,
   "outputs": [],
   "source": [
    "summarizer = TransformersSummarizer(model_name_or_path=\"facebook/bart-large-xsum\", use_gpu=True)\n",
    "summary = summarizer.predict(documents=docs)\n",
    "summary[0].meta[\"summary\"]"
   ],
   "metadata": {
    "collapsed": false
   }
  },
  {
   "cell_type": "markdown",
   "source": [
    "Summary: `A selection of extracts from Leo Tolstoy's novel Anna Karenina.`"
   ],
   "metadata": {
    "collapsed": false
   }
  },
  {
   "cell_type": "code",
   "execution_count": null,
   "outputs": [],
   "source": [
    "summarizer = TransformersSummarizer(model_name_or_path=\"philschmid/bart-large-cnn-samsum\", use_gpu=True)\n",
    "summary = summarizer.predict(documents=docs)\n",
    "summary[0].meta[\"summary\"]"
   ],
   "metadata": {
    "collapsed": false
   }
  },
  {
   "cell_type": "markdown",
   "source": [
    "Summary: `The Oblonskys’ house was in chaos because the husband was having an affair with a French girl. The French girl wanted to leave the house.`"
   ],
   "metadata": {
    "collapsed": false
   }
  },
  {
   "cell_type": "code",
   "execution_count": null,
   "outputs": [],
   "source": [],
   "metadata": {
    "collapsed": false
   }
  }
 ],
 "metadata": {
  "kernelspec": {
   "display_name": "Python 3",
   "language": "python",
   "name": "python3"
  },
  "language_info": {
   "codemirror_mode": {
    "name": "ipython",
    "version": 2
   },
   "file_extension": ".py",
   "mimetype": "text/x-python",
   "name": "python",
   "nbconvert_exporter": "python",
   "pygments_lexer": "ipython2",
   "version": "2.7.6"
  }
 },
 "nbformat": 4,
 "nbformat_minor": 0
}
