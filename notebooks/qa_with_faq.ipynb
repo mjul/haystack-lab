{
 "cells": [
  {
   "cell_type": "markdown",
   "source": [
    "# Tutorial: Tutorial: Utilizing Existing FAQs for Question Answering with Haystack\n",
    "From the Haystack [tutorial](https://haystack.deepset.ai/tutorials/04_faq_style_qa)\n",
    "Here, we search a corpus of FAQs to find the best answer for a given question."
   ],
   "metadata": {
    "collapsed": false
   }
  },
  {
   "cell_type": "code",
   "execution_count": null,
   "outputs": [],
   "source": [
    "import logging\n",
    "import pathlib\n",
    "\n",
    "import pandas as pd\n",
    "from haystack.document_stores import InMemoryDocumentStore\n",
    "from haystack.nodes import EmbeddingRetriever\n",
    "from haystack.pipelines import FAQPipeline\n",
    "from haystack.utils import print_answers, fetch_archive_from_http"
   ],
   "metadata": {
    "collapsed": false
   }
  },
  {
   "cell_type": "code",
   "execution_count": null,
   "outputs": [],
   "source": [
    "logging.basicConfig(format=\"%(levelname)s - %(name)s -  %(message)s\", level=logging.WARNING)\n",
    "logging.getLogger(\"haystack\").setLevel(logging.INFO)"
   ],
   "metadata": {
    "collapsed": false
   }
  },
  {
   "cell_type": "code",
   "execution_count": null,
   "outputs": [],
   "source": [
    "DATA_DIR = pathlib.Path().absolute().parent / \"data\""
   ],
   "metadata": {
    "collapsed": false
   }
  },
  {
   "cell_type": "markdown",
   "source": [
    "# Set up the DocumentStore"
   ],
   "metadata": {
    "collapsed": false
   }
  },
  {
   "cell_type": "code",
   "execution_count": null,
   "outputs": [],
   "source": [
    "document_store = InMemoryDocumentStore()"
   ],
   "metadata": {
    "collapsed": false
   }
  },
  {
   "cell_type": "markdown",
   "source": [
    "# Initialize the Retriever"
   ],
   "metadata": {
    "collapsed": false
   }
  },
  {
   "cell_type": "code",
   "execution_count": null,
   "outputs": [],
   "source": [
    "retriever = EmbeddingRetriever(\n",
    "    document_store=document_store,\n",
    "    embedding_model=\"sentence-transformers/all-MiniLM-L6-v2\",\n",
    "    use_gpu=True,\n",
    "    scale_score=False,\n",
    ")"
   ],
   "metadata": {
    "collapsed": false
   }
  },
  {
   "cell_type": "markdown",
   "source": [
    "# Prepare Documents"
   ],
   "metadata": {
    "collapsed": false
   }
  },
  {
   "cell_type": "code",
   "execution_count": null,
   "outputs": [],
   "source": [
    "doc_dir = DATA_DIR / \"tutorial4\"\n",
    "\n",
    "s3_url = \"https://s3.eu-central-1.amazonaws.com/deepset.ai-farm-qa/datasets/documents/small_faq_covid.csv.zip\"\n",
    "fetch_archive_from_http(url=s3_url, output_dir=doc_dir)"
   ],
   "metadata": {
    "collapsed": false
   }
  },
  {
   "cell_type": "code",
   "execution_count": null,
   "outputs": [],
   "source": [
    "# Get dataframe with columns \"question\", \"answer\" and some custom metadata\n",
    "df = pd.read_csv(doc_dir / \"small_faq_covid.csv\")\n",
    "# Minimal cleaning\n",
    "df.fillna(value=\"\", inplace=True)\n",
    "df[\"question\"] = df[\"question\"].apply(lambda x: x.strip())\n",
    "print(df.head())\n",
    "\n",
    "# Create embeddings for our questions from the FAQs\n",
    "# In contrast to most other search use cases, we don't create the embeddings here from the content of our documents,\n",
    "# but rather from the additional text field \"question\" as we want to match \"incoming question\" <-> \"stored question\".\n",
    "questions = list(df[\"question\"].values)\n",
    "df[\"embedding\"] = retriever.embed_queries(queries=questions).tolist()\n",
    "df = df.rename(columns={\"question\": \"content\"})\n",
    "\n",
    "# Convert Dataframe to list of dicts and index them in our DocumentStore\n",
    "docs_to_index = df.to_dict(orient=\"records\")\n",
    "document_store.write_documents(docs_to_index)"
   ],
   "metadata": {
    "collapsed": false
   }
  },
  {
   "cell_type": "markdown",
   "source": [
    "# Ask Questions"
   ],
   "metadata": {
    "collapsed": false
   }
  },
  {
   "cell_type": "code",
   "execution_count": null,
   "outputs": [],
   "source": [
    "pipe = FAQPipeline(retriever=retriever)"
   ],
   "metadata": {
    "collapsed": false
   }
  },
  {
   "cell_type": "code",
   "execution_count": null,
   "outputs": [],
   "source": [
    "prediction = pipe.run(query=\"How is the virus spreading?\", params={\"Retriever\": {\"top_k\": 1}})"
   ],
   "metadata": {
    "collapsed": false
   }
  },
  {
   "cell_type": "code",
   "execution_count": null,
   "outputs": [],
   "source": [
    "print_answers(prediction, details=\"medium\")"
   ],
   "metadata": {
    "collapsed": false
   }
  },
  {
   "cell_type": "code",
   "execution_count": null,
   "outputs": [],
   "source": [],
   "metadata": {
    "collapsed": false
   }
  }
 ],
 "metadata": {
  "kernelspec": {
   "display_name": "Python 3",
   "language": "python",
   "name": "python3"
  },
  "language_info": {
   "codemirror_mode": {
    "name": "ipython",
    "version": 2
   },
   "file_extension": ".py",
   "mimetype": "text/x-python",
   "name": "python",
   "nbconvert_exporter": "python",
   "pygments_lexer": "ipython2",
   "version": "2.7.6"
  }
 },
 "nbformat": 4,
 "nbformat_minor": 0
}
